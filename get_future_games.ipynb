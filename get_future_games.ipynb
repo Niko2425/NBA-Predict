{
 "cells": [
  {
   "cell_type": "code",
   "execution_count": 190,
   "id": "b08e9959-dacd-4dbf-a7b3-6efd330e65c2",
   "metadata": {},
   "outputs": [],
   "source": [
    "import os\n",
    "import pandas as pd\n",
    "from bs4 import BeautifulSoup\n",
    "from io import StringIO\n",
    "from datetime import datetime"
   ]
  },
  {
   "cell_type": "code",
   "execution_count": 191,
   "id": "f64efc1f-9844-4d02-8e4b-ae2ade3a2159",
   "metadata": {},
   "outputs": [],
   "source": [
    "STANDINGS_DIR = \"data/standings\""
   ]
  },
  {
   "cell_type": "code",
   "execution_count": 192,
   "id": "0821ce2e-4118-45d7-a89c-01455e9ad7f6",
   "metadata": {},
   "outputs": [],
   "source": [
    "def get_current_nba_season():\n",
    "    now = datetime.now()\n",
    "    month = now.month\n",
    "    year = now.year\n",
    "    if (month >= 10): #If october, then in the next year's season (we call 2024-25 season \"2025\" in the files)\n",
    "        return str(year+1)\n",
    "    else: #If before october, then in current year \n",
    "        return str(year)"
   ]
  },
  {
   "cell_type": "code",
   "execution_count": 193,
   "id": "e7e25c9a-dccb-4691-9c3e-10875b66ab0c",
   "metadata": {},
   "outputs": [
    {
     "data": {
      "text/plain": [
       "'2025'"
      ]
     },
     "execution_count": 193,
     "metadata": {},
     "output_type": "execute_result"
    }
   ],
   "source": [
    "season_year = get_current_nba_season()\n",
    "season_year"
   ]
  },
  {
   "cell_type": "code",
   "execution_count": 194,
   "id": "2d9de9e4-4dcf-4ae1-996b-8d30172c9744",
   "metadata": {},
   "outputs": [
    {
     "data": {
      "text/plain": [
       "['data/standings/NBA_2025_games-april.html',\n",
       " 'data/standings/NBA_2025_games-december.html',\n",
       " 'data/standings/NBA_2025_games-february.html',\n",
       " 'data/standings/NBA_2025_games-january.html',\n",
       " 'data/standings/NBA_2025_games-march.html',\n",
       " 'data/standings/NBA_2025_games-november.html',\n",
       " 'data/standings/NBA_2025_games-october.html']"
      ]
     },
     "execution_count": 194,
     "metadata": {},
     "output_type": "execute_result"
    }
   ],
   "source": [
    "standings = os.listdir(STANDINGS_DIR)\n",
    "standings = [x for x in standings if season_year in x] # Filter current szn year\n",
    "standings = [os.path.join(STANDINGS_DIR, f) for f in standings if f.endswith(\".html\")] #join together full path to standings\n",
    "if len(standings) == 0:\n",
    "    print(f\"You have no files for the {year} season, may have to scrape from get_data\")\n",
    "standings"
   ]
  },
  {
   "cell_type": "code",
   "execution_count": 195,
   "id": "beba103b-4082-4ea6-b188-3e6dcb05f28d",
   "metadata": {},
   "outputs": [],
   "source": [
    "def parse_month(standing, drop_past = True):\n",
    "    with open(standing, encoding = 'utf-8') as f:\n",
    "        html = f.read()\n",
    "    soup = BeautifulSoup(html)\n",
    "    tbl = soup.find(\"table\", {\"id\": \"schedule\"})\n",
    "    [s.decompose() for s in tbl.select(\"tr.thead\")] #thead class is strictly repeated headers, remove them so they don't show\n",
    "    \n",
    "    df = pd.read_html(StringIO(str(tbl)))[0] #read_html returns list of df's so index\n",
    "    #Rename box-score column, this is how we'll know if it is a future game or not (only finished games have them)\n",
    "    df = df.rename(columns={'Unnamed: 6': 'Box Score'})\n",
    "    #Drop all extra columns to the right of box-score \n",
    "    col_index = df.columns.get_loc('Box Score') \n",
    "    df = df.iloc[:, :col_index + 1]\n",
    "    #If we only want future games, take only the rows with NAN box-scores\n",
    "    if drop_past:\n",
    "        df = df[df['Box Score'].isna()]\n",
    "    return df"
   ]
  },
  {
   "cell_type": "code",
   "execution_count": 196,
   "id": "ae8f64f8-00f7-4bb8-b21e-c7d15330b8c5",
   "metadata": {},
   "outputs": [],
   "source": [
    "all_standings = []\n",
    "#Loop through all the months of current year and process tables\n",
    "for standing in standings:\n",
    "    df = parse_month(standing)\n",
    "    all_standings.append(df)\n",
    "#Combine all the months into one table\n",
    "future_games = pd.concat(all_standings)\n",
    "#Re-format date so it's cleaner, then sort by date\n",
    "future_games['Date'] = pd.to_datetime(future_games['Date'], format='%a, %b %d, %Y')\n",
    "future_games['Date'] = future_games['Date'].dt.strftime('%Y-%m-%d')\n",
    "future_games = future_games.sort_values(by='Date')\n",
    "future_games = future_games.reset_index(drop=True)"
   ]
  },
  {
   "cell_type": "code",
   "execution_count": 197,
   "id": "1f6c3fce-e1b1-4eed-814c-96f7af5589c7",
   "metadata": {},
   "outputs": [
    {
     "data": {
      "text/html": [
       "<div>\n",
       "<style scoped>\n",
       "    .dataframe tbody tr th:only-of-type {\n",
       "        vertical-align: middle;\n",
       "    }\n",
       "\n",
       "    .dataframe tbody tr th {\n",
       "        vertical-align: top;\n",
       "    }\n",
       "\n",
       "    .dataframe thead th {\n",
       "        text-align: right;\n",
       "    }\n",
       "</style>\n",
       "<table border=\"1\" class=\"dataframe\">\n",
       "  <thead>\n",
       "    <tr style=\"text-align: right;\">\n",
       "      <th></th>\n",
       "      <th>Date</th>\n",
       "      <th>Start (ET)</th>\n",
       "      <th>Visitor/Neutral</th>\n",
       "      <th>PTS</th>\n",
       "      <th>Home/Neutral</th>\n",
       "      <th>PTS.1</th>\n",
       "      <th>Box Score</th>\n",
       "    </tr>\n",
       "  </thead>\n",
       "  <tbody>\n",
       "    <tr>\n",
       "      <th>0</th>\n",
       "      <td>2025-01-29</td>\n",
       "      <td>8:00p</td>\n",
       "      <td>Dallas Mavericks</td>\n",
       "      <td>NaN</td>\n",
       "      <td>New Orleans Pelicans</td>\n",
       "      <td>NaN</td>\n",
       "      <td>NaN</td>\n",
       "    </tr>\n",
       "    <tr>\n",
       "      <th>1</th>\n",
       "      <td>2025-01-29</td>\n",
       "      <td>7:00p</td>\n",
       "      <td>Brooklyn Nets</td>\n",
       "      <td>NaN</td>\n",
       "      <td>Charlotte Hornets</td>\n",
       "      <td>NaN</td>\n",
       "      <td>NaN</td>\n",
       "    </tr>\n",
       "    <tr>\n",
       "      <th>2</th>\n",
       "      <td>2025-01-29</td>\n",
       "      <td>7:00p</td>\n",
       "      <td>Detroit Pistons</td>\n",
       "      <td>NaN</td>\n",
       "      <td>Indiana Pacers</td>\n",
       "      <td>NaN</td>\n",
       "      <td>NaN</td>\n",
       "    </tr>\n",
       "    <tr>\n",
       "      <th>3</th>\n",
       "      <td>2025-01-29</td>\n",
       "      <td>7:00p</td>\n",
       "      <td>Toronto Raptors</td>\n",
       "      <td>NaN</td>\n",
       "      <td>Washington Wizards</td>\n",
       "      <td>NaN</td>\n",
       "      <td>NaN</td>\n",
       "    </tr>\n",
       "    <tr>\n",
       "      <th>4</th>\n",
       "      <td>2025-01-29</td>\n",
       "      <td>7:30p</td>\n",
       "      <td>Chicago Bulls</td>\n",
       "      <td>NaN</td>\n",
       "      <td>Boston Celtics</td>\n",
       "      <td>NaN</td>\n",
       "      <td>NaN</td>\n",
       "    </tr>\n",
       "    <tr>\n",
       "      <th>...</th>\n",
       "      <td>...</td>\n",
       "      <td>...</td>\n",
       "      <td>...</td>\n",
       "      <td>...</td>\n",
       "      <td>...</td>\n",
       "      <td>...</td>\n",
       "      <td>...</td>\n",
       "    </tr>\n",
       "    <tr>\n",
       "      <th>537</th>\n",
       "      <td>2025-04-13</td>\n",
       "      <td>1:00p</td>\n",
       "      <td>New York Knicks</td>\n",
       "      <td>NaN</td>\n",
       "      <td>Brooklyn Nets</td>\n",
       "      <td>NaN</td>\n",
       "      <td>NaN</td>\n",
       "    </tr>\n",
       "    <tr>\n",
       "      <th>538</th>\n",
       "      <td>2025-04-13</td>\n",
       "      <td>1:00p</td>\n",
       "      <td>Charlotte Hornets</td>\n",
       "      <td>NaN</td>\n",
       "      <td>Boston Celtics</td>\n",
       "      <td>NaN</td>\n",
       "      <td>NaN</td>\n",
       "    </tr>\n",
       "    <tr>\n",
       "      <th>539</th>\n",
       "      <td>2025-04-13</td>\n",
       "      <td>1:00p</td>\n",
       "      <td>Orlando Magic</td>\n",
       "      <td>NaN</td>\n",
       "      <td>Atlanta Hawks</td>\n",
       "      <td>NaN</td>\n",
       "      <td>NaN</td>\n",
       "    </tr>\n",
       "    <tr>\n",
       "      <th>540</th>\n",
       "      <td>2025-04-13</td>\n",
       "      <td>3:30p</td>\n",
       "      <td>Los Angeles Clippers</td>\n",
       "      <td>NaN</td>\n",
       "      <td>Golden State Warriors</td>\n",
       "      <td>NaN</td>\n",
       "      <td>NaN</td>\n",
       "    </tr>\n",
       "    <tr>\n",
       "      <th>541</th>\n",
       "      <td>2025-04-13</td>\n",
       "      <td>3:30p</td>\n",
       "      <td>Toronto Raptors</td>\n",
       "      <td>NaN</td>\n",
       "      <td>San Antonio Spurs</td>\n",
       "      <td>NaN</td>\n",
       "      <td>NaN</td>\n",
       "    </tr>\n",
       "  </tbody>\n",
       "</table>\n",
       "<p>542 rows × 7 columns</p>\n",
       "</div>"
      ],
      "text/plain": [
       "           Date Start (ET)       Visitor/Neutral  PTS           Home/Neutral  \\\n",
       "0    2025-01-29      8:00p      Dallas Mavericks  NaN   New Orleans Pelicans   \n",
       "1    2025-01-29      7:00p         Brooklyn Nets  NaN      Charlotte Hornets   \n",
       "2    2025-01-29      7:00p       Detroit Pistons  NaN         Indiana Pacers   \n",
       "3    2025-01-29      7:00p       Toronto Raptors  NaN     Washington Wizards   \n",
       "4    2025-01-29      7:30p         Chicago Bulls  NaN         Boston Celtics   \n",
       "..          ...        ...                   ...  ...                    ...   \n",
       "537  2025-04-13      1:00p       New York Knicks  NaN          Brooklyn Nets   \n",
       "538  2025-04-13      1:00p     Charlotte Hornets  NaN         Boston Celtics   \n",
       "539  2025-04-13      1:00p         Orlando Magic  NaN          Atlanta Hawks   \n",
       "540  2025-04-13      3:30p  Los Angeles Clippers  NaN  Golden State Warriors   \n",
       "541  2025-04-13      3:30p       Toronto Raptors  NaN      San Antonio Spurs   \n",
       "\n",
       "     PTS.1 Box Score  \n",
       "0      NaN       NaN  \n",
       "1      NaN       NaN  \n",
       "2      NaN       NaN  \n",
       "3      NaN       NaN  \n",
       "4      NaN       NaN  \n",
       "..     ...       ...  \n",
       "537    NaN       NaN  \n",
       "538    NaN       NaN  \n",
       "539    NaN       NaN  \n",
       "540    NaN       NaN  \n",
       "541    NaN       NaN  \n",
       "\n",
       "[542 rows x 7 columns]"
      ]
     },
     "execution_count": 197,
     "metadata": {},
     "output_type": "execute_result"
    }
   ],
   "source": [
    "future_games"
   ]
  },
  {
   "cell_type": "code",
   "execution_count": 198,
   "id": "025bcad0-3ed0-40ab-bac2-ced8a837c7fc",
   "metadata": {},
   "outputs": [],
   "source": [
    "future_games.to_csv('future_test.csv')\n",
    "#future_games.to_csv(f'data/future_games/future_games_{season_year}.csv')"
   ]
  },
  {
   "cell_type": "code",
   "execution_count": null,
   "id": "960299cf-538c-46db-89f4-b06c6401d05b",
   "metadata": {},
   "outputs": [],
   "source": []
  }
 ],
 "metadata": {
  "kernelspec": {
   "display_name": "Python 3 (ipykernel)",
   "language": "python",
   "name": "python3"
  },
  "language_info": {
   "codemirror_mode": {
    "name": "ipython",
    "version": 3
   },
   "file_extension": ".py",
   "mimetype": "text/x-python",
   "name": "python",
   "nbconvert_exporter": "python",
   "pygments_lexer": "ipython3",
   "version": "3.10.12"
  }
 },
 "nbformat": 4,
 "nbformat_minor": 5
}
